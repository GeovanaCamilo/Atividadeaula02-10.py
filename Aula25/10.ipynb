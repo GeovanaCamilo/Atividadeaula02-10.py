{
  "nbformat": 4,
  "nbformat_minor": 0,
  "metadata": {
    "colab": {
      "provenance": [],
      "authorship_tag": "ABX9TyOjjhrrv+2b/DMq89ps3fgj",
      "include_colab_link": true
    },
    "kernelspec": {
      "name": "python3",
      "display_name": "Python 3"
    },
    "language_info": {
      "name": "python"
    }
  },
  "cells": [
    {
      "cell_type": "markdown",
      "metadata": {
        "id": "view-in-github",
        "colab_type": "text"
      },
      "source": [
        "<a href=\"https://colab.research.google.com/github/GeovanaCamilo/Atividadeaula02-10.py/blob/main/Aula25/10.ipynb\" target=\"_parent\"><img src=\"https://colab.research.google.com/assets/colab-badge.svg\" alt=\"Open In Colab\"/></a>"
      ]
    },
    {
      "cell_type": "markdown",
      "source": [
        "# Classes e Objetos"
      ],
      "metadata": {
        "id": "F3hj9ZTh5RGq"
      }
    },
    {
      "cell_type": "code",
      "execution_count": 22,
      "metadata": {
        "colab": {
          "base_uri": "https://localhost:8080/"
        },
        "id": "RxMyXZYF5PLw",
        "outputId": "f34a8b33-1e9d-4c91-dc08-07d31cd96cae"
      },
      "outputs": [
        {
          "output_type": "stream",
          "name": "stdout",
          "text": [
            "Nome 1 lo\n",
            "Sobrenome 2 io\n",
            "Nome 1 mi\n",
            "Olá, meu nome é  lo e eu tenho\n",
            "Olá, meu nome é  mi e eu tenho\n"
          ]
        }
      ],
      "source": [
        "class Vendedor:\n",
        "     def __init__(self, nome, nome2):\n",
        "         self.nome = nome\n",
        "         self.nome2 = nome2\n",
        "\n",
        "     def informacaoSaida(self):\n",
        "          print(\"Olá, meu nome é \", self.nome, \"e eu tenho\")\n",
        "\n",
        "vendedor1 = Vendedor(input('Nome 1 '),input('Sobrenome 2 '))\n",
        "vendedor2 = Vendedor(input('Nome 1 '),None)\n",
        "\n",
        "vendedor1.informacaoSaida()\n",
        "vendedor2.informacaoSaida()"
      ]
    },
    {
      "cell_type": "code",
      "source": [
        "class Pessoa:\n",
        "     def __init__(self, nome, sobrenome, idade, cidade):\n",
        "         self.nome = nome\n",
        "         self.sobrenome = sobrenome\n",
        "         self.idade = idade\n",
        "         self.cidade = cidade\n",
        "\n",
        "     def informacaoSaida(self):\n",
        "          print(\"Olá, meu nome é \", self.nome, \"e eu tenho\", self.idade, \"anos\", \"e moro em\", self.cidade)\n",
        "\n",
        "pessoa1 = Pessoa(input('Nome '),input('Sobrenome '), int(input('Idade ')), input('Cidade '))\n",
        "pessoa2 = Pessoa(input('Nome '),input('Sobrenome '), int(input('Idade ')), input('Cidade '))\n",
        "pessoa3 = Pessoa(input('Nome '),input('Sobrenome '), int(input('Idade ')), input('Cidade '))\n",
        "\n",
        "pessoa1.informacaoSaida()\n",
        "pessoa2.informacaoSaida()\n",
        "pessoa3.informacaoSaida()\n"
      ],
      "metadata": {
        "colab": {
          "base_uri": "https://localhost:8080/"
        },
        "id": "dbSar8G1J0CS",
        "outputId": "8b3e1af2-f9aa-4fc1-8a5a-f7a72f42d802"
      },
      "execution_count": 40,
      "outputs": [
        {
          "output_type": "stream",
          "name": "stdout",
          "text": [
            "Nome Geovana\n",
            "Sobrenome Camilo\n",
            "Idade 22\n",
            "Cidade Goiânia\n",
            "Nome Alexa\n",
            "Sobrenome Ana\n",
            "Idade 21\n",
            "Cidade Rio de Janeiro\n",
            "Nome Julio\n",
            "Sobrenome Cesar\n",
            "Idade 24\n",
            "Cidade São Paulo\n",
            "Olá, meu nome é  Geovana e eu tenho 22 anos e moro em Goiânia\n",
            "Olá, meu nome é  Alexa e eu tenho 21 anos e moro em Rio de Janeiro\n",
            "Olá, meu nome é  Julio e eu tenho 24 anos e moro em São Paulo\n"
          ]
        }
      ]
    },
    {
      "cell_type": "code",
      "source": [],
      "metadata": {
        "id": "fLjLaIthNRRg"
      },
      "execution_count": null,
      "outputs": []
    }
  ]
}