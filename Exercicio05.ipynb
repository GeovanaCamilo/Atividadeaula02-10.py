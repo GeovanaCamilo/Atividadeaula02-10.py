{
  "nbformat": 4,
  "nbformat_minor": 0,
  "metadata": {
    "colab": {
      "provenance": [],
      "authorship_tag": "ABX9TyMXsmHUewf56lzZ53U6rsAl",
      "include_colab_link": true
    },
    "kernelspec": {
      "name": "python3",
      "display_name": "Python 3"
    },
    "language_info": {
      "name": "python"
    }
  },
  "cells": [
    {
      "cell_type": "markdown",
      "metadata": {
        "id": "view-in-github",
        "colab_type": "text"
      },
      "source": [
        "<a href=\"https://colab.research.google.com/github/GeovanaCamilo/Atividadeaula02-10.py/blob/main/Exercicio05.ipynb\" target=\"_parent\"><img src=\"https://colab.research.google.com/assets/colab-badge.svg\" alt=\"Open In Colab\"/></a>"
      ]
    },
    {
      "cell_type": "code",
      "source": [
        "n1 =  int(input(\"Digite o primeiro número: \"))\n",
        "n2 =  int(input(\"Digite o segundo número: \"))\n",
        "n3 =  int(input(\"Digite o terceiro número: \"))\n",
        "\n",
        "if n1 > n2 and n1 > n3:\n",
        "    print(f'O maior número é: {n1}')\n",
        "if n2 > n1 and n2 > n3:\n",
        "    print(f'O maior número é: {n2}')\n",
        "if n3 > n1 and n3 > n2:\n",
        "    print(f'O maior número é: {n3}')\n",
        "\n",
        "\n",
        "\n",
        "if  n1 < n2 and n1 < n3:\n",
        "     print(f'O menor número é: {n1}')\n",
        "\n",
        "if  n2 < n1 and  n2 < n3:\n",
        "     print(f'O menor número é: {n2}')\n",
        "if  n3 < n1 and  n3 < n2:\n",
        "     print(f'O menor número é: {n3}')"
      ],
      "metadata": {
        "id": "vozarCcanKie"
      },
      "execution_count": null,
      "outputs": []
    },
    {
      "cell_type": "code",
      "source": [
        "n1 = int(input(\"Digite o primeiro número:\"))\n",
        "n2 = int(input(\"Digite o segundo número:\"))\n",
        "\n",
        "if n1 != n2:\n",
        "    print(f'{n1} e diferente de: {n2}')\n",
        "else:\n",
        "    print(f'Os números são iguais')"
      ],
      "metadata": {
        "colab": {
          "base_uri": "https://localhost:8080/"
        },
        "id": "rfJil7eSh9jI",
        "outputId": "322e1e15-1220-4c2e-b88e-58644c935dcd"
      },
      "execution_count": 19,
      "outputs": [
        {
          "output_type": "stream",
          "name": "stdout",
          "text": [
            "Digite o primeiro número:5\n",
            "Digite o segundo número:5\n",
            "Os números são iguais\n"
          ]
        }
      ]
    },
    {
      "cell_type": "code",
      "source": [
        "n1 = int(input(\"Digite o primeiro número: \" ))\n",
        "\n",
        "if n1 >= 1:\n",
        "    print(f\"Número é positivo\")\n",
        "if n1 < 0:\n",
        "    print(f\"Número é negativo\")\n",
        "else:\n",
        "   if n1== 0:\n",
        "    print(f\"Número é Zero\")"
      ],
      "metadata": {
        "colab": {
          "base_uri": "https://localhost:8080/"
        },
        "id": "x2Tg5nCTkO7n",
        "outputId": "3cdf2a1d-6fc5-42ed-b519-5376df3170af"
      },
      "execution_count": 16,
      "outputs": [
        {
          "output_type": "stream",
          "name": "stdout",
          "text": [
            "Digite o primeiro número: 1\n",
            "Número é positivo\n"
          ]
        }
      ]
    },
    {
      "cell_type": "markdown",
      "source": [],
      "metadata": {
        "id": "_gfWgL4jmOb1"
      }
    }
  ]
}