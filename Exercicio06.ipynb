{
  "nbformat": 4,
  "nbformat_minor": 0,
  "metadata": {
    "colab": {
      "provenance": [],
      "authorship_tag": "ABX9TyPS+OE1eLzpOdyhjvobNmfM",
      "include_colab_link": true
    },
    "kernelspec": {
      "name": "python3",
      "display_name": "Python 3"
    },
    "language_info": {
      "name": "python"
    }
  },
  "cells": [
    {
      "cell_type": "markdown",
      "metadata": {
        "id": "view-in-github",
        "colab_type": "text"
      },
      "source": [
        "<a href=\"https://colab.research.google.com/github/GeovanaCamilo/Atividadeaula02-10.py/blob/main/Exercicio06.ipynb\" target=\"_parent\"><img src=\"https://colab.research.google.com/assets/colab-badge.svg\" alt=\"Open In Colab\"/></a>"
      ]
    },
    {
      "cell_type": "code",
      "source": [
        "questao = int(input('1 << Programa que ler dados do usuário,   2 << Programa que traduz o mês de número para palavras,  escolha uma das opções'))\n",
        "\n",
        "if questao == 1:\n",
        "\n",
        " nome = input('nome:')\n",
        " sobrenome = input ('sobrenome:')\n",
        " idade = input ('idade:')\n",
        " cidade = input('cidade:')\n",
        "\n",
        " listaA = [nome, sobrenome, idade, cidade]\n",
        "\n",
        " print (listaA[3])\n",
        "\n",
        "elif questao == 2:\n",
        "\n",
        " numeroMes = int(input('Digite o mês em numeros de 1 a 12:'))\n",
        "\n",
        " listaMeses = ['Janeiro', 'Fevereiro', 'Março', 'Abril', 'Maio', 'Junho', 'Julho', 'Agosto', 'Setembro', 'Outubro', 'Novembro', 'Dezembro']\n",
        " print(listaMeses[numeroMes-1])\n",
        "\n",
        "else:\n",
        " print('Opção invalida')"
      ],
      "metadata": {
        "colab": {
          "base_uri": "https://localhost:8080/"
        },
        "id": "aKiX6oKxnW8l",
        "outputId": "0dd6a9d7-d31a-4aa9-84ee-f9b392a4d386"
      },
      "execution_count": 12,
      "outputs": [
        {
          "output_type": "stream",
          "name": "stdout",
          "text": [
            "1 << Programa que ler dados do usuário,   2 << Programa que traduz o mês de número para palavras,  escolha uma das opções2\n",
            "Digite o mês em numeros de 1 a 12:5\n",
            "Maio\n"
          ]
        }
      ]
    }
  ]
}