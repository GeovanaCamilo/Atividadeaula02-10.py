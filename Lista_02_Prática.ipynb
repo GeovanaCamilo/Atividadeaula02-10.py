{
  "nbformat": 4,
  "nbformat_minor": 0,
  "metadata": {
    "colab": {
      "provenance": [],
      "authorship_tag": "ABX9TyMKMHognQqPtJkJxJDcsKi/",
      "include_colab_link": true
    },
    "kernelspec": {
      "name": "python3",
      "display_name": "Python 3"
    },
    "language_info": {
      "name": "python"
    }
  },
  "cells": [
    {
      "cell_type": "markdown",
      "metadata": {
        "id": "view-in-github",
        "colab_type": "text"
      },
      "source": [
        "<a href=\"https://colab.research.google.com/github/GeovanaCamilo/Atividadeaula02-10.py/blob/main/Lista_02_Pr%C3%A1tica.ipynb\" target=\"_parent\"><img src=\"https://colab.research.google.com/assets/colab-badge.svg\" alt=\"Open In Colab\"/></a>"
      ]
    },
    {
      "cell_type": "markdown",
      "source": [
        "1 - Perímetro de um quadrado: Peça o lado de um quadrado e calcule o perímetro\n",
        "(soma dos lados).\n"
      ],
      "metadata": {
        "id": "BeuP_EKE4PH8"
      }
    },
    {
      "cell_type": "code",
      "execution_count": null,
      "metadata": {
        "id": "PJDDSAnKIgIz"
      },
      "outputs": [],
      "source": [
        "n1 = int(input(\"Digite o primeiro número: \" ))\n",
        "\n",
        "if n1 >= 1:\n",
        "    print(f\"Número é positivo\")\n",
        "if n1 < 0:\n",
        "    print(f\"Número é negativo\")\n",
        "else:\n",
        "   if n1== 0:\n",
        "    print(f\"Número é Zero\")"
      ]
    },
    {
      "cell_type": "markdown",
      "source": [
        "2 - Perímetro de um quadrado: Peça o lado de um quadrado e calcule o perímetro\n",
        "(soma dos lados).\n"
      ],
      "metadata": {
        "id": "HTSJdSOt4LYP"
      }
    },
    {
      "cell_type": "code",
      "source": [
        "def calcular_perimetro_quadrado(lado):\n",
        "    return 4 * lado\n",
        "\n",
        "lado = float(input(\"Digite o comprimento de um lado do quadrado: \"))\n",
        "\n",
        "perimetro = calcular_perimetro_quadrado(lado)\n",
        "\n",
        "\n",
        "print(f\"O perímetro do quadrado é: {perimetro}\")\n"
      ],
      "metadata": {
        "colab": {
          "base_uri": "https://localhost:8080/"
        },
        "id": "uD0ep3oz3nuP",
        "outputId": "c0f23919-f094-4a68-93e8-315a4147f3f9"
      },
      "execution_count": null,
      "outputs": [
        {
          "output_type": "stream",
          "name": "stdout",
          "text": [
            "Digite o comprimento de um lado do quadrado: 45\n",
            "O perímetro do quadrado é: 180.0\n"
          ]
        }
      ]
    },
    {
      "cell_type": "markdown",
      "source": [
        "3.\tPar ou ímpar: Peça um número ao usuário e informe se ele é par ou ímpar."
      ],
      "metadata": {
        "id": "NEnAf1i94xX5"
      }
    },
    {
      "cell_type": "code",
      "source": [
        "def verificar_par_ou_impar(numero):\n",
        "\n",
        "    if numero % 2 == 0:\n",
        "        return \"par\"\n",
        "    else:\n",
        "        return \"ímpar\"\n",
        "\n",
        "numero = int(input(\"Digite um número: \"))\n",
        "\n",
        "resultado = verificar_par_ou_impar(numero)\n",
        "\n",
        "print(f\"O número {numero} é {resultado}.\")\n"
      ],
      "metadata": {
        "colab": {
          "base_uri": "https://localhost:8080/"
        },
        "id": "v8ARBhJ_4915",
        "outputId": "fa51afbb-979e-4b8c-be16-ec6bee0f663e"
      },
      "execution_count": null,
      "outputs": [
        {
          "output_type": "stream",
          "name": "stdout",
          "text": [
            "Digite um número: 2\n",
            "O número 2 é par.\n"
          ]
        }
      ]
    },
    {
      "cell_type": "markdown",
      "source": [
        "4. Número maior"
      ],
      "metadata": {
        "id": "6fg3nJBbAlm_"
      }
    },
    {
      "cell_type": "code",
      "source": [
        "def verificar_maioridade(idade):\n",
        "    if idade >= 18:\n",
        "        return True\n",
        "    else:\n",
        "        return False\n",
        "\n",
        "idade = int(input(\"Digite sua idade: \"))\n",
        "\n",
        "if verificar_maioridade(idade):\n",
        "    print(\"Você é maior de idade.\")\n",
        "else:\n",
        "    print(\"Você é menor de idade.\")\n"
      ],
      "metadata": {
        "id": "jzuFULhWAko4"
      },
      "execution_count": null,
      "outputs": []
    },
    {
      "cell_type": "markdown",
      "source": [
        "5. Desconto na compra"
      ],
      "metadata": {
        "id": "IP7EFTqJBTpm"
      }
    },
    {
      "cell_type": "code",
      "source": [
        "valor_compra = float(input(\"Digite o valor da compra: R$ \"))\n",
        "\n",
        "\n",
        "if valor_compra > 100:\n",
        "   #_10%\n",
        "    desconto = valor_compra * 0.10\n",
        "    valor_final = valor_compra - desconto\n",
        "    print(f\"Valor da compra com desconto: R$ {valor_final:.2f}\")\n",
        "\n",
        "else:\n",
        "   print(f\"Valor da compra sem desconto: R$ {valor_compra:.2f}\")\n"
      ],
      "metadata": {
        "id": "Qrmf13v0BSuG",
        "colab": {
          "base_uri": "https://localhost:8080/"
        },
        "outputId": "552db158-454f-4bcf-f431-fc4e5cccdf47"
      },
      "execution_count": null,
      "outputs": [
        {
          "output_type": "stream",
          "name": "stdout",
          "text": [
            "Digite o valor da compra: R$ 158\n",
            "Valor da compra com desconto: R$ 142.20\n"
          ]
        }
      ]
    },
    {
      "cell_type": "markdown",
      "source": [
        " 6. Verificar múltiplo"
      ],
      "metadata": {
        "id": "I6Crrrm0xVd9"
      }
    },
    {
      "cell_type": "code",
      "source": [
        "numero = int(input(\"Digite um número: \"))\n",
        "if numero % 5 == 0:\n",
        "    print(f\"{numero} é múltiplo de 5.\")\n",
        "else:\n",
        "    print(f\"{numero} não é múltiplo de 5.\")"
      ],
      "metadata": {
        "id": "YHSdC_p2z4_2",
        "colab": {
          "base_uri": "https://localhost:8080/"
        },
        "outputId": "87638536-6e5d-4daa-f37f-d4fb98959fea"
      },
      "execution_count": null,
      "outputs": [
        {
          "output_type": "stream",
          "name": "stdout",
          "text": [
            "Digite um número: 0\n",
            "0 é múltiplo de 5.\n"
          ]
        }
      ]
    },
    {
      "cell_type": "markdown",
      "source": [
        "7. Cálculo da média"
      ],
      "metadata": {
        "id": "I_ivK1PfxImk"
      }
    },
    {
      "cell_type": "code",
      "source": [
        "notas = []\n",
        "for i in range(3):\n",
        "    nota = float(input(f\"Digite a nota {i+1}: \"))\n",
        "    notas.append(nota)\n",
        "media = sum(notas) / len(notas)\n",
        "if media >= 7:\n",
        "    print(\"Aluno aprovado.\")\n",
        "else:\n",
        "    print(\"Aluno reprovado.\")"
      ],
      "metadata": {
        "colab": {
          "base_uri": "https://localhost:8080/"
        },
        "id": "lJPWHhlivf6e",
        "outputId": "81d65adf-eaa1-4e54-a70a-aebd6da8ad2e"
      },
      "execution_count": null,
      "outputs": [
        {
          "output_type": "stream",
          "name": "stdout",
          "text": [
            "Digite a nota 1: 40\n",
            "Digite a nota 2: 52\n",
            "Digite a nota 3: 4\n",
            "Aluno aprovado.\n"
          ]
        }
      ]
    },
    {
      "cell_type": "markdown",
      "source": [
        "8. Senha correta"
      ],
      "metadata": {
        "id": "K0UU94e0xuvM"
      }
    },
    {
      "cell_type": "code",
      "source": [
        "senha = input(\"Digite a senha: \")\n",
        "if senha == \"python123_EFG\":\n",
        "    print(\"Acesso permitido.\")\n",
        "else:\n",
        "    print(\"Senha incorreta.\")"
      ],
      "metadata": {
        "colab": {
          "base_uri": "https://localhost:8080/"
        },
        "id": "_vdNuTqFvkJ0",
        "outputId": "45ef6d9f-308b-4988-86ac-e29e7e0fa39f"
      },
      "execution_count": null,
      "outputs": [
        {
          "output_type": "stream",
          "name": "stdout",
          "text": [
            "Digite a senha: python123_EFG\n",
            "Acesso permitido.\n"
          ]
        }
      ]
    },
    {
      "cell_type": "markdown",
      "source": [
        "# 9. Entrada gratuita"
      ],
      "metadata": {
        "id": "ufSwdoRQyJXy"
      }
    },
    {
      "cell_type": "code",
      "source": [
        "idade = int(input(\"Digite sua idade: \"))\n",
        "if idade < 5 or idade > 60:\n",
        "    print(\"Você tem direito à entrada gratuita.\")\n",
        "else:\n",
        "    print(\"Você não tem direito à entrada gratuita.\")"
      ],
      "metadata": {
        "colab": {
          "base_uri": "https://localhost:8080/",
          "height": 383
        },
        "id": "XaMIMi78vsQ0",
        "outputId": "424b60e9-42b7-4948-bb8b-a56560ee00d5"
      },
      "execution_count": null,
      "outputs": [
        {
          "output_type": "error",
          "ename": "KeyboardInterrupt",
          "evalue": "Interrupted by user",
          "traceback": [
            "\u001b[0;31m---------------------------------------------------------------------------\u001b[0m",
            "\u001b[0;31mKeyboardInterrupt\u001b[0m                         Traceback (most recent call last)",
            "\u001b[0;32m<ipython-input-14-83353c23bc7f>\u001b[0m in \u001b[0;36m<cell line: 2>\u001b[0;34m()\u001b[0m\n\u001b[1;32m      1\u001b[0m \u001b[0;31m# 9. Entrada gratuita\u001b[0m\u001b[0;34m\u001b[0m\u001b[0;34m\u001b[0m\u001b[0m\n\u001b[0;32m----> 2\u001b[0;31m \u001b[0midade\u001b[0m \u001b[0;34m=\u001b[0m \u001b[0mint\u001b[0m\u001b[0;34m(\u001b[0m\u001b[0minput\u001b[0m\u001b[0;34m(\u001b[0m\u001b[0;34m\"Digite sua idade: \"\u001b[0m\u001b[0;34m)\u001b[0m\u001b[0;34m)\u001b[0m\u001b[0;34m\u001b[0m\u001b[0;34m\u001b[0m\u001b[0m\n\u001b[0m\u001b[1;32m      3\u001b[0m \u001b[0;32mif\u001b[0m \u001b[0midade\u001b[0m \u001b[0;34m<\u001b[0m \u001b[0;36m5\u001b[0m \u001b[0;32mor\u001b[0m \u001b[0midade\u001b[0m \u001b[0;34m>\u001b[0m \u001b[0;36m60\u001b[0m\u001b[0;34m:\u001b[0m\u001b[0;34m\u001b[0m\u001b[0;34m\u001b[0m\u001b[0m\n\u001b[1;32m      4\u001b[0m     \u001b[0mprint\u001b[0m\u001b[0;34m(\u001b[0m\u001b[0;34m\"Você tem direito à entrada gratuita.\"\u001b[0m\u001b[0;34m)\u001b[0m\u001b[0;34m\u001b[0m\u001b[0;34m\u001b[0m\u001b[0m\n\u001b[1;32m      5\u001b[0m \u001b[0;32melse\u001b[0m\u001b[0;34m:\u001b[0m\u001b[0;34m\u001b[0m\u001b[0;34m\u001b[0m\u001b[0m\n",
            "\u001b[0;32m/usr/local/lib/python3.10/dist-packages/ipykernel/kernelbase.py\u001b[0m in \u001b[0;36mraw_input\u001b[0;34m(self, prompt)\u001b[0m\n\u001b[1;32m    849\u001b[0m                 \u001b[0;34m\"raw_input was called, but this frontend does not support input requests.\"\u001b[0m\u001b[0;34m\u001b[0m\u001b[0;34m\u001b[0m\u001b[0m\n\u001b[1;32m    850\u001b[0m             )\n\u001b[0;32m--> 851\u001b[0;31m         return self._input_request(str(prompt),\n\u001b[0m\u001b[1;32m    852\u001b[0m             \u001b[0mself\u001b[0m\u001b[0;34m.\u001b[0m\u001b[0m_parent_ident\u001b[0m\u001b[0;34m,\u001b[0m\u001b[0;34m\u001b[0m\u001b[0;34m\u001b[0m\u001b[0m\n\u001b[1;32m    853\u001b[0m             \u001b[0mself\u001b[0m\u001b[0;34m.\u001b[0m\u001b[0m_parent_header\u001b[0m\u001b[0;34m,\u001b[0m\u001b[0;34m\u001b[0m\u001b[0;34m\u001b[0m\u001b[0m\n",
            "\u001b[0;32m/usr/local/lib/python3.10/dist-packages/ipykernel/kernelbase.py\u001b[0m in \u001b[0;36m_input_request\u001b[0;34m(self, prompt, ident, parent, password)\u001b[0m\n\u001b[1;32m    893\u001b[0m             \u001b[0;32mexcept\u001b[0m \u001b[0mKeyboardInterrupt\u001b[0m\u001b[0;34m:\u001b[0m\u001b[0;34m\u001b[0m\u001b[0;34m\u001b[0m\u001b[0m\n\u001b[1;32m    894\u001b[0m                 \u001b[0;31m# re-raise KeyboardInterrupt, to truncate traceback\u001b[0m\u001b[0;34m\u001b[0m\u001b[0;34m\u001b[0m\u001b[0m\n\u001b[0;32m--> 895\u001b[0;31m                 \u001b[0;32mraise\u001b[0m \u001b[0mKeyboardInterrupt\u001b[0m\u001b[0;34m(\u001b[0m\u001b[0;34m\"Interrupted by user\"\u001b[0m\u001b[0;34m)\u001b[0m \u001b[0;32mfrom\u001b[0m \u001b[0;32mNone\u001b[0m\u001b[0;34m\u001b[0m\u001b[0;34m\u001b[0m\u001b[0m\n\u001b[0m\u001b[1;32m    896\u001b[0m             \u001b[0;32mexcept\u001b[0m \u001b[0mException\u001b[0m \u001b[0;32mas\u001b[0m \u001b[0me\u001b[0m\u001b[0;34m:\u001b[0m\u001b[0;34m\u001b[0m\u001b[0;34m\u001b[0m\u001b[0m\n\u001b[1;32m    897\u001b[0m                 \u001b[0mself\u001b[0m\u001b[0;34m.\u001b[0m\u001b[0mlog\u001b[0m\u001b[0;34m.\u001b[0m\u001b[0mwarning\u001b[0m\u001b[0;34m(\u001b[0m\u001b[0;34m\"Invalid Message:\"\u001b[0m\u001b[0;34m,\u001b[0m \u001b[0mexc_info\u001b[0m\u001b[0;34m=\u001b[0m\u001b[0;32mTrue\u001b[0m\u001b[0;34m)\u001b[0m\u001b[0;34m\u001b[0m\u001b[0;34m\u001b[0m\u001b[0m\n",
            "\u001b[0;31mKeyboardInterrupt\u001b[0m: Interrupted by user"
          ]
        }
      ]
    },
    {
      "cell_type": "markdown",
      "source": [
        "10. Verificar nota"
      ],
      "metadata": {
        "id": "O06SuAFOyN6s"
      }
    },
    {
      "cell_type": "code",
      "source": [
        "nota = float(input(\"Digite uma nota entre 0 e 10: \"))\n",
        "if 0 <= nota <= 10:\n",
        "    print(\"Nota válida.\")\n",
        "else:\n",
        "    print(\"Erro: Nota inválida.\")"
      ],
      "metadata": {
        "colab": {
          "base_uri": "https://localhost:8080/",
          "height": 383
        },
        "id": "uIopHzQUvtxs",
        "outputId": "ab111334-c84c-4bef-8140-61f24624f1df"
      },
      "execution_count": null,
      "outputs": [
        {
          "output_type": "error",
          "ename": "KeyboardInterrupt",
          "evalue": "Interrupted by user",
          "traceback": [
            "\u001b[0;31m---------------------------------------------------------------------------\u001b[0m",
            "\u001b[0;31mKeyboardInterrupt\u001b[0m                         Traceback (most recent call last)",
            "\u001b[0;32m<ipython-input-15-40010668f36f>\u001b[0m in \u001b[0;36m<cell line: 2>\u001b[0;34m()\u001b[0m\n\u001b[1;32m      1\u001b[0m \u001b[0;31m# 10. Verificar nota\u001b[0m\u001b[0;34m\u001b[0m\u001b[0;34m\u001b[0m\u001b[0m\n\u001b[0;32m----> 2\u001b[0;31m \u001b[0mnota\u001b[0m \u001b[0;34m=\u001b[0m \u001b[0mfloat\u001b[0m\u001b[0;34m(\u001b[0m\u001b[0minput\u001b[0m\u001b[0;34m(\u001b[0m\u001b[0;34m\"Digite uma nota entre 0 e 10: \"\u001b[0m\u001b[0;34m)\u001b[0m\u001b[0;34m)\u001b[0m\u001b[0;34m\u001b[0m\u001b[0;34m\u001b[0m\u001b[0m\n\u001b[0m\u001b[1;32m      3\u001b[0m \u001b[0;32mif\u001b[0m \u001b[0;36m0\u001b[0m \u001b[0;34m<=\u001b[0m \u001b[0mnota\u001b[0m \u001b[0;34m<=\u001b[0m \u001b[0;36m10\u001b[0m\u001b[0;34m:\u001b[0m\u001b[0;34m\u001b[0m\u001b[0;34m\u001b[0m\u001b[0m\n\u001b[1;32m      4\u001b[0m     \u001b[0mprint\u001b[0m\u001b[0;34m(\u001b[0m\u001b[0;34m\"Nota válida.\"\u001b[0m\u001b[0;34m)\u001b[0m\u001b[0;34m\u001b[0m\u001b[0;34m\u001b[0m\u001b[0m\n\u001b[1;32m      5\u001b[0m \u001b[0;32melse\u001b[0m\u001b[0;34m:\u001b[0m\u001b[0;34m\u001b[0m\u001b[0;34m\u001b[0m\u001b[0m\n",
            "\u001b[0;32m/usr/local/lib/python3.10/dist-packages/ipykernel/kernelbase.py\u001b[0m in \u001b[0;36mraw_input\u001b[0;34m(self, prompt)\u001b[0m\n\u001b[1;32m    849\u001b[0m                 \u001b[0;34m\"raw_input was called, but this frontend does not support input requests.\"\u001b[0m\u001b[0;34m\u001b[0m\u001b[0;34m\u001b[0m\u001b[0m\n\u001b[1;32m    850\u001b[0m             )\n\u001b[0;32m--> 851\u001b[0;31m         return self._input_request(str(prompt),\n\u001b[0m\u001b[1;32m    852\u001b[0m             \u001b[0mself\u001b[0m\u001b[0;34m.\u001b[0m\u001b[0m_parent_ident\u001b[0m\u001b[0;34m,\u001b[0m\u001b[0;34m\u001b[0m\u001b[0;34m\u001b[0m\u001b[0m\n\u001b[1;32m    853\u001b[0m             \u001b[0mself\u001b[0m\u001b[0;34m.\u001b[0m\u001b[0m_parent_header\u001b[0m\u001b[0;34m,\u001b[0m\u001b[0;34m\u001b[0m\u001b[0;34m\u001b[0m\u001b[0m\n",
            "\u001b[0;32m/usr/local/lib/python3.10/dist-packages/ipykernel/kernelbase.py\u001b[0m in \u001b[0;36m_input_request\u001b[0;34m(self, prompt, ident, parent, password)\u001b[0m\n\u001b[1;32m    893\u001b[0m             \u001b[0;32mexcept\u001b[0m \u001b[0mKeyboardInterrupt\u001b[0m\u001b[0;34m:\u001b[0m\u001b[0;34m\u001b[0m\u001b[0;34m\u001b[0m\u001b[0m\n\u001b[1;32m    894\u001b[0m                 \u001b[0;31m# re-raise KeyboardInterrupt, to truncate traceback\u001b[0m\u001b[0;34m\u001b[0m\u001b[0;34m\u001b[0m\u001b[0m\n\u001b[0;32m--> 895\u001b[0;31m                 \u001b[0;32mraise\u001b[0m \u001b[0mKeyboardInterrupt\u001b[0m\u001b[0;34m(\u001b[0m\u001b[0;34m\"Interrupted by user\"\u001b[0m\u001b[0;34m)\u001b[0m \u001b[0;32mfrom\u001b[0m \u001b[0;32mNone\u001b[0m\u001b[0;34m\u001b[0m\u001b[0;34m\u001b[0m\u001b[0m\n\u001b[0m\u001b[1;32m    896\u001b[0m             \u001b[0;32mexcept\u001b[0m \u001b[0mException\u001b[0m \u001b[0;32mas\u001b[0m \u001b[0me\u001b[0m\u001b[0;34m:\u001b[0m\u001b[0;34m\u001b[0m\u001b[0;34m\u001b[0m\u001b[0m\n\u001b[1;32m    897\u001b[0m                 \u001b[0mself\u001b[0m\u001b[0;34m.\u001b[0m\u001b[0mlog\u001b[0m\u001b[0;34m.\u001b[0m\u001b[0mwarning\u001b[0m\u001b[0;34m(\u001b[0m\u001b[0;34m\"Invalid Message:\"\u001b[0m\u001b[0;34m,\u001b[0m \u001b[0mexc_info\u001b[0m\u001b[0;34m=\u001b[0m\u001b[0;32mTrue\u001b[0m\u001b[0;34m)\u001b[0m\u001b[0;34m\u001b[0m\u001b[0;34m\u001b[0m\u001b[0m\n",
            "\u001b[0;31mKeyboardInterrupt\u001b[0m: Interrupted by user"
          ]
        }
      ]
    },
    {
      "cell_type": "markdown",
      "source": [
        "11. Categoria de idade"
      ],
      "metadata": {
        "id": "6_IV3UGTyTus"
      }
    },
    {
      "cell_type": "code",
      "source": [
        "idade = int(input(\"Digite sua idade: \"))\n",
        "if idade < 12:\n",
        "    print(\"Criança.\")\n",
        "elif 12 <= idade < 18:\n",
        "    print(\"Adolescente.\")\n",
        "else:\n",
        "    print(\"Adulto.\")"
      ],
      "metadata": {
        "colab": {
          "base_uri": "https://localhost:8080/",
          "height": 383
        },
        "id": "OqMcNPgwvvck",
        "outputId": "3c56b668-9e37-4c73-bd8f-a8b5d77d7641"
      },
      "execution_count": null,
      "outputs": [
        {
          "output_type": "error",
          "ename": "KeyboardInterrupt",
          "evalue": "Interrupted by user",
          "traceback": [
            "\u001b[0;31m---------------------------------------------------------------------------\u001b[0m",
            "\u001b[0;31mKeyboardInterrupt\u001b[0m                         Traceback (most recent call last)",
            "\u001b[0;32m<ipython-input-16-743200426f7f>\u001b[0m in \u001b[0;36m<cell line: 2>\u001b[0;34m()\u001b[0m\n\u001b[1;32m      1\u001b[0m \u001b[0;31m# 11. Categoria de idade\u001b[0m\u001b[0;34m\u001b[0m\u001b[0;34m\u001b[0m\u001b[0m\n\u001b[0;32m----> 2\u001b[0;31m \u001b[0midade\u001b[0m \u001b[0;34m=\u001b[0m \u001b[0mint\u001b[0m\u001b[0;34m(\u001b[0m\u001b[0minput\u001b[0m\u001b[0;34m(\u001b[0m\u001b[0;34m\"Digite sua idade: \"\u001b[0m\u001b[0;34m)\u001b[0m\u001b[0;34m)\u001b[0m\u001b[0;34m\u001b[0m\u001b[0;34m\u001b[0m\u001b[0m\n\u001b[0m\u001b[1;32m      3\u001b[0m \u001b[0;32mif\u001b[0m \u001b[0midade\u001b[0m \u001b[0;34m<\u001b[0m \u001b[0;36m12\u001b[0m\u001b[0;34m:\u001b[0m\u001b[0;34m\u001b[0m\u001b[0;34m\u001b[0m\u001b[0m\n\u001b[1;32m      4\u001b[0m     \u001b[0mprint\u001b[0m\u001b[0;34m(\u001b[0m\u001b[0;34m\"Criança.\"\u001b[0m\u001b[0;34m)\u001b[0m\u001b[0;34m\u001b[0m\u001b[0;34m\u001b[0m\u001b[0m\n\u001b[1;32m      5\u001b[0m \u001b[0;32melif\u001b[0m \u001b[0;36m12\u001b[0m \u001b[0;34m<=\u001b[0m \u001b[0midade\u001b[0m \u001b[0;34m<\u001b[0m \u001b[0;36m18\u001b[0m\u001b[0;34m:\u001b[0m\u001b[0;34m\u001b[0m\u001b[0;34m\u001b[0m\u001b[0m\n",
            "\u001b[0;32m/usr/local/lib/python3.10/dist-packages/ipykernel/kernelbase.py\u001b[0m in \u001b[0;36mraw_input\u001b[0;34m(self, prompt)\u001b[0m\n\u001b[1;32m    849\u001b[0m                 \u001b[0;34m\"raw_input was called, but this frontend does not support input requests.\"\u001b[0m\u001b[0;34m\u001b[0m\u001b[0;34m\u001b[0m\u001b[0m\n\u001b[1;32m    850\u001b[0m             )\n\u001b[0;32m--> 851\u001b[0;31m         return self._input_request(str(prompt),\n\u001b[0m\u001b[1;32m    852\u001b[0m             \u001b[0mself\u001b[0m\u001b[0;34m.\u001b[0m\u001b[0m_parent_ident\u001b[0m\u001b[0;34m,\u001b[0m\u001b[0;34m\u001b[0m\u001b[0;34m\u001b[0m\u001b[0m\n\u001b[1;32m    853\u001b[0m             \u001b[0mself\u001b[0m\u001b[0;34m.\u001b[0m\u001b[0m_parent_header\u001b[0m\u001b[0;34m,\u001b[0m\u001b[0;34m\u001b[0m\u001b[0;34m\u001b[0m\u001b[0m\n",
            "\u001b[0;32m/usr/local/lib/python3.10/dist-packages/ipykernel/kernelbase.py\u001b[0m in \u001b[0;36m_input_request\u001b[0;34m(self, prompt, ident, parent, password)\u001b[0m\n\u001b[1;32m    893\u001b[0m             \u001b[0;32mexcept\u001b[0m \u001b[0mKeyboardInterrupt\u001b[0m\u001b[0;34m:\u001b[0m\u001b[0;34m\u001b[0m\u001b[0;34m\u001b[0m\u001b[0m\n\u001b[1;32m    894\u001b[0m                 \u001b[0;31m# re-raise KeyboardInterrupt, to truncate traceback\u001b[0m\u001b[0;34m\u001b[0m\u001b[0;34m\u001b[0m\u001b[0m\n\u001b[0;32m--> 895\u001b[0;31m                 \u001b[0;32mraise\u001b[0m \u001b[0mKeyboardInterrupt\u001b[0m\u001b[0;34m(\u001b[0m\u001b[0;34m\"Interrupted by user\"\u001b[0m\u001b[0;34m)\u001b[0m \u001b[0;32mfrom\u001b[0m \u001b[0;32mNone\u001b[0m\u001b[0;34m\u001b[0m\u001b[0;34m\u001b[0m\u001b[0m\n\u001b[0m\u001b[1;32m    896\u001b[0m             \u001b[0;32mexcept\u001b[0m \u001b[0mException\u001b[0m \u001b[0;32mas\u001b[0m \u001b[0me\u001b[0m\u001b[0;34m:\u001b[0m\u001b[0;34m\u001b[0m\u001b[0;34m\u001b[0m\u001b[0m\n\u001b[1;32m    897\u001b[0m                 \u001b[0mself\u001b[0m\u001b[0;34m.\u001b[0m\u001b[0mlog\u001b[0m\u001b[0;34m.\u001b[0m\u001b[0mwarning\u001b[0m\u001b[0;34m(\u001b[0m\u001b[0;34m\"Invalid Message:\"\u001b[0m\u001b[0;34m,\u001b[0m \u001b[0mexc_info\u001b[0m\u001b[0;34m=\u001b[0m\u001b[0;32mTrue\u001b[0m\u001b[0;34m)\u001b[0m\u001b[0;34m\u001b[0m\u001b[0;34m\u001b[0m\u001b[0m\n",
            "\u001b[0;31mKeyboardInterrupt\u001b[0m: Interrupted by user"
          ]
        }
      ]
    },
    {
      "cell_type": "markdown",
      "source": [
        "12. Maior de três números"
      ],
      "metadata": {
        "id": "xGn-BK3OyZQt"
      }
    },
    {
      "cell_type": "code",
      "source": [
        "numeros = []\n",
        "for i in range(3):\n",
        "    numero = float(input(f\"Digite o número {i+1}: \"))\n",
        "    numeros.append(numero)\n",
        "maior = max(numeros)\n",
        "print(f\"O maior número é: {maior}.\")"
      ],
      "metadata": {
        "id": "UqFJhMMsvw0c"
      },
      "execution_count": null,
      "outputs": []
    },
    {
      "cell_type": "markdown",
      "source": [
        "13. Divisão segura"
      ],
      "metadata": {
        "id": "vjBrkA7uydZU"
      }
    },
    {
      "cell_type": "code",
      "source": [
        "numerador = float(input(\"Digite o numerador: \"))\n",
        "denominador = float(input(\"Digite o denominador: \"))\n",
        "if denominador != 0:\n",
        "    resultado = numerador / denominador\n",
        "    print(f\"O resultado da divisão é: {resultado}.\")\n",
        "else:\n",
        "    print(\"Divisão não é possível.\")\n"
      ],
      "metadata": {
        "colab": {
          "base_uri": "https://localhost:8080/"
        },
        "id": "rUdPXHt7vyUM",
        "outputId": "147b2050-ed3b-448a-d55a-39d47c9ad934"
      },
      "execution_count": null,
      "outputs": [
        {
          "output_type": "stream",
          "name": "stdout",
          "text": [
            "Digite o numerador: 4\n",
            "Digite o denominador: 41\n",
            "O resultado da divisão é: 0.0975609756097561.\n"
          ]
        }
      ]
    },
    {
      "cell_type": "markdown",
      "source": [
        "14. Número dentro de intervalo"
      ],
      "metadata": {
        "id": "9HrMwTnYyjw1"
      }
    },
    {
      "cell_type": "code",
      "source": [
        "numero = int(input(\"Digite um número: \"))\n",
        "if 10 <= numero <= 50:\n",
        "    print(f\"{numero} está entre 10 e 50.\")\n",
        "else:\n",
        "    print(f\"{numero} não está entre 10 e 50.\")"
      ],
      "metadata": {
        "id": "hWPfhtOhvzst"
      },
      "execution_count": null,
      "outputs": []
    },
    {
      "cell_type": "markdown",
      "source": [
        "15. Aprovado, recuperação ou reprovado"
      ],
      "metadata": {
        "id": "-EyPzGuEypsk"
      }
    },
    {
      "cell_type": "code",
      "source": [
        "media = float(input(\"Digite a média do aluno: \"))\n",
        "if media >= 7:\n",
        "    print(\"Aprovado.\")\n",
        "elif 5 <= media < 7:\n",
        "    print(\"Em recuperação.\")\n",
        "else:\n",
        "    print(\"Reprovado.\")\n"
      ],
      "metadata": {
        "id": "9Mjc6xA9v2ov"
      },
      "execution_count": null,
      "outputs": []
    },
    {
      "cell_type": "markdown",
      "source": [
        "16. Calcular IMC"
      ],
      "metadata": {
        "id": "oY3hD6XJyqpG"
      }
    },
    {
      "cell_type": "code",
      "source": [
        "# Solicita o peso e a altura do usuário\n",
        "peso = float(input(\"Digite seu peso em kg: \"))\n",
        "altura = float(input(\"Digite sua altura em metros (ex: 1.75): \"))\n",
        "\n",
        "# Calcula o IMC\n",
        "imc = peso / (altura ** 2)\n",
        "\n",
        "# Exibe a classificação do IMC\n",
        "if imc < 18.5:\n",
        "    print(\"Abaixo do peso.\")\n",
        "elif 18.5 <= imc < 25:\n",
        "    print(\"Peso normal.\")\n",
        "else:\n",
        "    print(\"Acima do peso.\")"
      ],
      "metadata": {
        "id": "AzIg0Wywv40k",
        "colab": {
          "base_uri": "https://localhost:8080/"
        },
        "outputId": "85c065f1-ece5-44bc-906c-d004e0dd7847"
      },
      "execution_count": null,
      "outputs": [
        {
          "output_type": "stream",
          "name": "stdout",
          "text": [
            "Digite seu peso em kg: 60\n",
            "Digite sua altura em metros (ex: 1.75): 1.65\n",
            "Peso normal.\n"
          ]
        }
      ]
    },
    {
      "cell_type": "markdown",
      "source": [
        "17. Identificar triângulo"
      ],
      "metadata": {
        "id": "33hTkUIVyrXM"
      }
    },
    {
      "cell_type": "code",
      "source": [
        "lado1 = float(input(\"Digite o primeiro lado: \"))\n",
        "lado2 = float(input(\"Digite o segundo lado: \"))\n",
        "lado3 = float(input(\"Digite o terceiro lado: \"))\n",
        "if lado1 + lado2 > lado3 and lado1 + lado3 > lado2 and lado2 + lado3 > lado1:\n",
        "    if lado1 == lado2 == lado3:\n",
        "        print(\"Triângulo equilátero.\")\n",
        "    elif lado1 == lado2 or lado1 == lado3 or lado2 == lado3:\n",
        "        print(\"Triângulo isósceles.\")\n",
        "    else:\n",
        "        print(\"Triângulo escaleno.\")\n",
        "else:\n",
        "    print(\"Os lados não formam um triângulo.\")\n"
      ],
      "metadata": {
        "id": "PIFcl4o4v6zc"
      },
      "execution_count": null,
      "outputs": []
    },
    {
      "cell_type": "markdown",
      "source": [
        "18. Login e senha"
      ],
      "metadata": {
        "id": "xhxJxBfdzB0-"
      }
    },
    {
      "cell_type": "code",
      "source": [
        "usuario = input(\"Digite o nome de usuário: \")\n",
        "senha = input(\"Digite a senha: \")\n",
        "if usuario == \"admin\" and senha == \"1234\":\n",
        "    print(\"Login bem-sucedido.\")\n",
        "else:\n",
        "    print(\"Login ou senha incorretos.\")"
      ],
      "metadata": {
        "id": "Dc5lDU2jv9Nk"
      },
      "execution_count": null,
      "outputs": []
    },
    {
      "cell_type": "markdown",
      "source": [
        "19. Verificar maioridade para dirigir"
      ],
      "metadata": {
        "id": "ZpbTjRSCzjNV"
      }
    },
    {
      "cell_type": "code",
      "source": [
        "idade = int(input(\"Digite sua idade: \"))\n",
        "if idade >= 18:\n",
        "    print(\"Você pode dirigir.\")\n",
        "else:\n",
        "    anos_faltando = 18 - idade\n",
        "    print(f\"Você não pode dirigir. Faltam {anos_faltando} anos para você poder dirigir.\")"
      ],
      "metadata": {
        "id": "OtmU5UZrzdek"
      },
      "execution_count": null,
      "outputs": []
    }
  ]
}